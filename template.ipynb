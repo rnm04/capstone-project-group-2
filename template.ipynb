{
 "cells": [
  {
   "cell_type": "code",
   "execution_count": null,
   "id": "b57ddbff-d217-41a5-896a-7c2bf37cb03c",
   "metadata": {},
   "outputs": [],
   "source": [
    "# LOADING THE DATASET"
   ]
  },
  {
   "cell_type": "code",
   "execution_count": 1,
   "id": "a513fd2a-a754-428c-ab07-e9bfbd589824",
   "metadata": {},
   "outputs": [],
   "source": [
    "# CLEANING THE DATASET"
   ]
  },
  {
   "cell_type": "code",
   "execution_count": 19,
   "id": "5b349067-89a8-44f4-9d90-e584b1e9f8b9",
   "metadata": {},
   "outputs": [],
   "source": [
    "# [ROMA] Drop the rows with missing values, as it is unlikely to significantly impact the analysis\n",
    "pass\n",
    "\n",
    "# [KIMI] Standardize data formats (e.g., date formats, categorical variables)\n",
    "pass\n",
    "\n",
    "# [KATH] See Data Cleaning Guide from old Kaggle codes\n",
    "pass"
   ]
  },
  {
   "cell_type": "code",
   "execution_count": 21,
   "id": "796c5a63-faeb-48f8-9ae0-c043b419ba3f",
   "metadata": {},
   "outputs": [],
   "source": [
    "# CREATING FUNCTIONS WITH BROAD USE\n",
    "# Notes: Try making filters for dynamic component with audience, See Kath’s first (List of choices, inputs as “filter”)"
   ]
  },
  {
   "cell_type": "code",
   "execution_count": null,
   "id": "95d4d26d-57d0-40c8-8677-a0f88496202a",
   "metadata": {},
   "outputs": [],
   "source": [
    "# [KIMI] Top # best-selling products (total purchases) per state\n",
    "pass\n",
    "\n",
    "# [KIMI] Top # best-selling products (total purchases) per city\n",
    "pass\n",
    "\n",
    "# [KIMI] Top # best-selling products (total purchases) per country\n",
    "pass\n",
    "\n",
    "# [ROMA] Quarterly sales (month, total amount) per product category\n",
    "pass\n",
    "\n",
    "# [ROMA] Top # products with the worst feedback\n",
    "pass\n",
    "\n",
    "# [KIMI] Total purchases by payment method\n",
    "pass\n",
    "\n",
    "# [KATH] Top # products with the highest total amount\n",
    "pass\n",
    "\n",
    "# [KATH] Mean of total purchases per product category\n",
    "pass"
   ]
  },
  {
   "cell_type": "code",
   "execution_count": 5,
   "id": "72e37ea5-1b0a-4f78-b84e-90d2a7c925e1",
   "metadata": {},
   "outputs": [],
   "source": [
    "# EXTRACTING DESIRED METRICS & DISPLAYING DATA AS TABLE/CHART/INTERACTIVE DASHBOARDS"
   ]
  },
  {
   "cell_type": "code",
   "execution_count": 7,
   "id": "e7f644a0-0489-4cc5-ac31-be0696798f3d",
   "metadata": {},
   "outputs": [],
   "source": [
    "# Visualizations"
   ]
  },
  {
   "cell_type": "code",
   "execution_count": 9,
   "id": "f80d76d9-c7c0-45de-a48f-e9f8f29041d3",
   "metadata": {},
   "outputs": [],
   "source": [
    "# Histogram\n",
    "# [KIMI] Age\n",
    "pass\n",
    "\n",
    "# [KIMI] Gender\n",
    "pass\n",
    "\n",
    "# [KIMI] Income\n",
    "pass"
   ]
  },
  {
   "cell_type": "code",
   "execution_count": 11,
   "id": "cb91dfe9-0996-4f77-b61a-d50520e92388",
   "metadata": {},
   "outputs": [],
   "source": [
    "# Bar Graph\n",
    "# [KIMI] Feedback, Product Brand, Country\n",
    "pass\n",
    "\n",
    "# [ROMA] Product Category, Total Purchases, Country\n",
    "pass\n",
    "\n",
    "# [KATH] Product Type, Total Amount\n",
    "pass"
   ]
  },
  {
   "cell_type": "code",
   "execution_count": 13,
   "id": "708fdb4a-a582-4821-a359-84ba43deae53",
   "metadata": {},
   "outputs": [],
   "source": [
    "# Line Graph\n",
    "# [ROMA] Month and Year, Total Purchases, Product Category\n",
    "pass\n",
    "\n",
    "# [KIMI] Time, Total Purchases\n",
    "pass"
   ]
  },
  {
   "cell_type": "code",
   "execution_count": 15,
   "id": "bce4cb4f-0506-4d6f-8de8-6af5832fd00e",
   "metadata": {},
   "outputs": [],
   "source": [
    "# Pie Chart\n",
    "# [ROMA] Product Brand\n",
    "pass\n",
    "\n",
    "# [ROMA] Payment Method\n",
    "pass\n",
    "\n",
    "# [ROMA] Shipping Method\n",
    "pass"
   ]
  },
  {
   "cell_type": "code",
   "execution_count": 17,
   "id": "d66c4310-a2ec-457f-8fe1-dfa3921fc3cb",
   "metadata": {},
   "outputs": [],
   "source": [
    "# Stacked Bar Chart\n",
    "# [KATH] Payment Method, Income\n",
    "pass"
   ]
  },
  {
   "cell_type": "code",
   "execution_count": 23,
   "id": "d5c0d52a-68ee-4a00-b08d-7d4d152fe5fb",
   "metadata": {},
   "outputs": [],
   "source": [
    "# Predictive Modeling "
   ]
  }
 ],
 "metadata": {
  "kernelspec": {
   "display_name": "Python 3 (ipykernel)",
   "language": "python",
   "name": "python3"
  },
  "language_info": {
   "codemirror_mode": {
    "name": "ipython",
    "version": 3
   },
   "file_extension": ".py",
   "mimetype": "text/x-python",
   "name": "python",
   "nbconvert_exporter": "python",
   "pygments_lexer": "ipython3",
   "version": "3.11.7"
  }
 },
 "nbformat": 4,
 "nbformat_minor": 5
}
